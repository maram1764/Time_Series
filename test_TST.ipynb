{
 "cells": [
  {
   "cell_type": "code",
   "execution_count": 1,
   "metadata": {},
   "outputs": [],
   "source": [
    "from TST import *\n",
    "from loss import MaskedMSELoss\n",
    "import torch"
   ]
  },
  {
   "cell_type": "code",
   "execution_count": 3,
   "metadata": {},
   "outputs": [],
   "source": [
    "def make_model(src, mask, N=6, d_model=512, d_ff=2048, h=8, dropout=0.1):\n",
    "    \"Helper: Construct a model from hyperparameters.\"\n",
    "    c = copy.deepcopy\n",
    "    feat_dim = src.shape[1]  # dimensionality of data features\n",
    "    attn = MultiHeadedAttention(h, d_model)\n",
    "    ff = PositionwiseFeedForward(d_model, d_ff, dropout)\n",
    "    pe = PositionalEncoding(d_model, dropout)\n",
    "    proj = nn.Linear(feat_dim, d_model)\n",
    "    output = nn.Linear(d_model, feat_dim)\n",
    "    model = output(Encoder(EncoderLayer(d_model, c(attn), c(ff), dropout), N)(pe(proj(src)), mask))\n",
    "    # This was important from their code.\n",
    "    # Initialize parameters with Glorot / fan_avg.\n",
    "    for p in model.parameters():\n",
    "        print(\"p \", p)\n",
    "        if p.dim() > 1:\n",
    "            nn.init.xavier_uniform_(p)\n",
    "    return model"
   ]
  },
  {
   "cell_type": "code",
   "execution_count": 4,
   "metadata": {},
   "outputs": [
    {
     "name": "stdout",
     "output_type": "stream",
     "text": [
      "src.shape:  torch.Size([10, 512, 512])\n",
      "Creating model...\n"
     ]
    }
   ],
   "source": [
    "# Synthetic Data\n",
    "src = torch.randn(10, 512, 512)\n",
    "X_test = torch.randn(10, 512, 512)\n",
    "print(\"src.shape: \", src.shape)\n",
    "# Create model\n",
    "print(\"Creating model...\")\n",
    "TS_model = make_model(src, mask= None)\n",
    "# loss function\n",
    "loss_fn = nn.MaskedMSELoss()\n",
    "# Initialize optimizer\n",
    "optimizer = torch.optim.Adam(TS_model.parameters(), lr=0.0001)"
   ]
  },
  {
   "cell_type": "code",
   "execution_count": null,
   "metadata": {},
   "outputs": [],
   "source": [
    "# train model\n",
    "BATCH_SIZE = 128\n",
    "for epoch in range (10000) :\n",
    "    for start in range (0 , src[-1] , BATCH_SIZE) :\n",
    "        end = start + BATCH_SIZE\n",
    "        batch = src[start:end]\n",
    "        batch_pred = TS_model(batch)\n",
    "        loss = loss_fn(batch_pred , batch)\n",
    "        optimizer.zero_grad()\n",
    "        loss.backward()\n",
    "        optimizer.step()\n",
    "    loss = loss_fn(TS_model(src) , src)\n",
    "    if epoch%100 == 0:\n",
    "        print(' epoch {} training loss {} '.format(epoch , loss.item()))\n",
    "    if(epoch%1000 == 0) :\n",
    "        Y_test_pred = TS_model(X_test)\n",
    "        print(Y_test_pred)"
   ]
  }
 ],
 "metadata": {
  "kernelspec": {
   "display_name": "Python 3.10.6 64-bit",
   "language": "python",
   "name": "python3"
  },
  "language_info": {
   "codemirror_mode": {
    "name": "ipython",
    "version": 3
   },
   "file_extension": ".py",
   "mimetype": "text/x-python",
   "name": "python",
   "nbconvert_exporter": "python",
   "pygments_lexer": "ipython3",
   "version": "3.10.6"
  },
  "orig_nbformat": 4,
  "vscode": {
   "interpreter": {
    "hash": "916dbcbb3f70747c44a77c7bcd40155683ae19c65e1c03b4aa3499c5328201f1"
   }
  }
 },
 "nbformat": 4,
 "nbformat_minor": 2
}
